{
 "cells": [
  {
   "cell_type": "markdown",
   "metadata": {},
   "source": [
    "# Store-item Sale Forecast\n",
    "\n",
    "\n",
    "## 1 Problem Statement and Data Analysis\n",
    "\n",
    "## 1.1 Problem Description\n",
    "\n",
    "This is part of the [Kaggle competion]( https://www.kaggle.com/c/demand-forecasting-kernels-only/data). \n",
    "\n",
    "The training dataset includes 5-year of store-item daily sales data (from 2013 to 2017), the problem is \n",
    "to predict 3 months of sales (from January 2018 to March 2018) for 50 different items at 10 different stores.\n",
    "\n",
    "The evaluation metrics is [SMAPE](https://en.wikipedia.org/wiki/Symmetric_mean_absolute_percentage_error) (symmetric mean absolute percentage error) between forecasts and actual value, which defined as \n",
    "$$SMAPE=\\frac{1}{n}\\sum_{i=0}^n \\frac{|y_i-\\hat{y_i}|}{\\frac{1}{2}(y_i+\\hat{y_i})} \\cdot 100\\%.$$\n",
    "where $y_i$ is the actual value and $\\hat{y_i}$ is the prediction"
   ]
  },
  {
   "cell_type": "markdown",
   "metadata": {},
   "source": [
    "## Import Packages"
   ]
  },
  {
   "cell_type": "code",
   "execution_count": 2,
   "metadata": {},
   "outputs": [],
   "source": [
    "import pandas as pd\n",
    "import numpy as np\n",
    "\n",
    "import seaborn as sns\n",
    "import matplotlib.pyplot as plt\n",
    "import matplotlib.dates as mdates\n",
    "import sklearn\n",
    "from sklearn.base import BaseEstimator, TransformerMixin, RegressorMixin\n",
    "from sklearn.pipeline import Pipeline\n",
    "from sklearn.model_selection import train_test_split, TimeSeriesSplit\n",
    "from sklearn.ensemble import RandomForestRegressor\n",
    "from sklearn.linear_model import LinearRegression\n",
    "\n",
    "%matplotlib inline\n",
    "\n",
    "import datetime"
   ]
  },
  {
   "cell_type": "markdown",
   "metadata": {},
   "source": [
    "## 1.2 Dataset and Features\n",
    "\n",
    "### Load and View data "
   ]
  },
  {
   "cell_type": "code",
   "execution_count": 3,
   "metadata": {},
   "outputs": [
    {
     "name": "stdout",
     "output_type": "stream",
     "text": [
      "Working directory:  C:\\Users\\morri\\Documents\\00Data Science\\AWS\\FullStackML\\demand-forecasting-kernels-only\n",
      " Volume in drive C is Windows\n",
      " Volume Serial Number is AC2F-8805\n",
      "\n",
      " Directory of C:\\Users\\morri\\Documents\\00Data Science\\AWS\\FullStackML\\demand-forecasting-kernels-only\n",
      "\n",
      "2020-06-07  08:38 AM    <DIR>          .\n",
      "2020-06-07  08:38 AM    <DIR>          ..\n",
      "2020-06-07  12:29 AM    <DIR>          .ipynb_checkpoints\n",
      "2020-06-03  02:15 PM    <DIR>          data\n",
      "2020-06-03  02:02 PM    <DIR>          output\n",
      "2020-06-07  12:28 AM           273,751 SalesForecast-V2.ipynb\n",
      "2020-06-07  08:38 AM           136,388 SalesForecast-V3.ipynb\n",
      "2020-06-06  01:58 PM           135,157 SalesForecast.ipynb\n",
      "2020-06-02  12:31 PM        69,612,778 train_explore.xlsx\n",
      "               4 File(s)     70,158,074 bytes\n",
      "               5 Dir(s)  426,843,783,168 bytes free\n"
     ]
    }
   ],
   "source": [
    "# Check the data directory via shell command \n",
    "import os\n",
    "print(\"Working directory: \", os.getcwd())\n",
    "!dir "
   ]
  },
  {
   "cell_type": "code",
   "execution_count": 4,
   "metadata": {},
   "outputs": [],
   "source": [
    "# The directory of the input data files is \"\\data\" for windows\n",
    "df_train = pd.read_csv('data\\\\train.csv')\n",
    "df_test = pd.read_csv('data\\\\test.csv')\n",
    "sample = pd.read_csv('data\\\\sample_submission.csv')"
   ]
  },
  {
   "cell_type": "code",
   "execution_count": 5,
   "metadata": {},
   "outputs": [
    {
     "name": "stdout",
     "output_type": "stream",
     "text": [
      "train columns:  Index(['date', 'store', 'item', 'sales'], dtype='object')\n",
      "train shape:  (913000, 4)\n"
     ]
    }
   ],
   "source": [
    "print(\"train columns: \", df_train.columns)\n",
    "print(\"train shape: \", df_train.shape)"
   ]
  },
  {
   "cell_type": "code",
   "execution_count": 6,
   "metadata": {},
   "outputs": [
    {
     "data": {
      "text/html": [
       "<div>\n",
       "<style scoped>\n",
       "    .dataframe tbody tr th:only-of-type {\n",
       "        vertical-align: middle;\n",
       "    }\n",
       "\n",
       "    .dataframe tbody tr th {\n",
       "        vertical-align: top;\n",
       "    }\n",
       "\n",
       "    .dataframe thead th {\n",
       "        text-align: right;\n",
       "    }\n",
       "</style>\n",
       "<table border=\"1\" class=\"dataframe\">\n",
       "  <thead>\n",
       "    <tr style=\"text-align: right;\">\n",
       "      <th></th>\n",
       "      <th>date</th>\n",
       "      <th>store</th>\n",
       "      <th>item</th>\n",
       "      <th>sales</th>\n",
       "    </tr>\n",
       "  </thead>\n",
       "  <tbody>\n",
       "    <tr>\n",
       "      <th>0</th>\n",
       "      <td>2013-01-01</td>\n",
       "      <td>1</td>\n",
       "      <td>1</td>\n",
       "      <td>13</td>\n",
       "    </tr>\n",
       "    <tr>\n",
       "      <th>1</th>\n",
       "      <td>2013-01-02</td>\n",
       "      <td>1</td>\n",
       "      <td>1</td>\n",
       "      <td>11</td>\n",
       "    </tr>\n",
       "    <tr>\n",
       "      <th>2</th>\n",
       "      <td>2013-01-03</td>\n",
       "      <td>1</td>\n",
       "      <td>1</td>\n",
       "      <td>14</td>\n",
       "    </tr>\n",
       "  </tbody>\n",
       "</table>\n",
       "</div>"
      ],
      "text/plain": [
       "         date  store  item  sales\n",
       "0  2013-01-01      1     1     13\n",
       "1  2013-01-02      1     1     11\n",
       "2  2013-01-03      1     1     14"
      ]
     },
     "execution_count": 6,
     "metadata": {},
     "output_type": "execute_result"
    }
   ],
   "source": [
    "df_train.head(3)"
   ]
  },
  {
   "cell_type": "code",
   "execution_count": 7,
   "metadata": {},
   "outputs": [],
   "source": [
    "new_train = df_train.set_index(['date','store','item'])"
   ]
  },
  {
   "cell_type": "code",
   "execution_count": 8,
   "metadata": {},
   "outputs": [
    {
     "data": {
      "text/html": [
       "<div>\n",
       "<style scoped>\n",
       "    .dataframe tbody tr th:only-of-type {\n",
       "        vertical-align: middle;\n",
       "    }\n",
       "\n",
       "    .dataframe tbody tr th {\n",
       "        vertical-align: top;\n",
       "    }\n",
       "\n",
       "    .dataframe thead th {\n",
       "        text-align: right;\n",
       "    }\n",
       "</style>\n",
       "<table border=\"1\" class=\"dataframe\">\n",
       "  <thead>\n",
       "    <tr style=\"text-align: right;\">\n",
       "      <th></th>\n",
       "      <th></th>\n",
       "      <th></th>\n",
       "      <th>sales</th>\n",
       "    </tr>\n",
       "    <tr>\n",
       "      <th>date</th>\n",
       "      <th>store</th>\n",
       "      <th>item</th>\n",
       "      <th></th>\n",
       "    </tr>\n",
       "  </thead>\n",
       "  <tbody>\n",
       "    <tr>\n",
       "      <th>2013-01-01</th>\n",
       "      <th>1</th>\n",
       "      <th>1</th>\n",
       "      <td>13</td>\n",
       "    </tr>\n",
       "    <tr>\n",
       "      <th>2013-01-02</th>\n",
       "      <th>1</th>\n",
       "      <th>1</th>\n",
       "      <td>11</td>\n",
       "    </tr>\n",
       "    <tr>\n",
       "      <th>2013-01-03</th>\n",
       "      <th>1</th>\n",
       "      <th>1</th>\n",
       "      <td>14</td>\n",
       "    </tr>\n",
       "  </tbody>\n",
       "</table>\n",
       "</div>"
      ],
      "text/plain": [
       "                       sales\n",
       "date       store item       \n",
       "2013-01-01 1     1        13\n",
       "2013-01-02 1     1        11\n",
       "2013-01-03 1     1        14"
      ]
     },
     "execution_count": 8,
     "metadata": {},
     "output_type": "execute_result"
    }
   ],
   "source": [
    "new_train.head(3)"
   ]
  },
  {
   "cell_type": "code",
   "execution_count": 9,
   "metadata": {},
   "outputs": [
    {
     "name": "stdout",
     "output_type": "stream",
     "text": [
      "train columns:  Index(['date', 'store', 'item', 'sales'], dtype='object')\n",
      "train shape:  (913000, 4)\n"
     ]
    }
   ],
   "source": [
    "print(\"train columns: \", df_train.columns)\n",
    "print(\"train shape: \", df_train.shape)"
   ]
  },
  {
   "cell_type": "code",
   "execution_count": 10,
   "metadata": {},
   "outputs": [
    {
     "data": {
      "text/html": [
       "<div>\n",
       "<style scoped>\n",
       "    .dataframe tbody tr th:only-of-type {\n",
       "        vertical-align: middle;\n",
       "    }\n",
       "\n",
       "    .dataframe tbody tr th {\n",
       "        vertical-align: top;\n",
       "    }\n",
       "\n",
       "    .dataframe thead th {\n",
       "        text-align: right;\n",
       "    }\n",
       "</style>\n",
       "<table border=\"1\" class=\"dataframe\">\n",
       "  <thead>\n",
       "    <tr style=\"text-align: right;\">\n",
       "      <th></th>\n",
       "      <th>date</th>\n",
       "      <th>store</th>\n",
       "      <th>item</th>\n",
       "      <th>sales</th>\n",
       "    </tr>\n",
       "  </thead>\n",
       "  <tbody>\n",
       "    <tr>\n",
       "      <th>0</th>\n",
       "      <td>2013-01-01</td>\n",
       "      <td>1</td>\n",
       "      <td>1</td>\n",
       "      <td>13</td>\n",
       "    </tr>\n",
       "    <tr>\n",
       "      <th>1</th>\n",
       "      <td>2013-01-02</td>\n",
       "      <td>1</td>\n",
       "      <td>1</td>\n",
       "      <td>11</td>\n",
       "    </tr>\n",
       "    <tr>\n",
       "      <th>2</th>\n",
       "      <td>2013-01-03</td>\n",
       "      <td>1</td>\n",
       "      <td>1</td>\n",
       "      <td>14</td>\n",
       "    </tr>\n",
       "  </tbody>\n",
       "</table>\n",
       "</div>"
      ],
      "text/plain": [
       "         date  store  item  sales\n",
       "0  2013-01-01      1     1     13\n",
       "1  2013-01-02      1     1     11\n",
       "2  2013-01-03      1     1     14"
      ]
     },
     "execution_count": 10,
     "metadata": {},
     "output_type": "execute_result"
    }
   ],
   "source": [
    "df_train.head(3)"
   ]
  },
  {
   "cell_type": "code",
   "execution_count": 11,
   "metadata": {},
   "outputs": [
    {
     "name": "stdout",
     "output_type": "stream",
     "text": [
      "test columns:  Index(['id', 'date', 'store', 'item'], dtype='object')\n",
      "test shape (45000, 4)\n"
     ]
    },
    {
     "data": {
      "text/html": [
       "<div>\n",
       "<style scoped>\n",
       "    .dataframe tbody tr th:only-of-type {\n",
       "        vertical-align: middle;\n",
       "    }\n",
       "\n",
       "    .dataframe tbody tr th {\n",
       "        vertical-align: top;\n",
       "    }\n",
       "\n",
       "    .dataframe thead th {\n",
       "        text-align: right;\n",
       "    }\n",
       "</style>\n",
       "<table border=\"1\" class=\"dataframe\">\n",
       "  <thead>\n",
       "    <tr style=\"text-align: right;\">\n",
       "      <th></th>\n",
       "      <th>id</th>\n",
       "      <th>date</th>\n",
       "      <th>store</th>\n",
       "      <th>item</th>\n",
       "    </tr>\n",
       "  </thead>\n",
       "  <tbody>\n",
       "    <tr>\n",
       "      <th>0</th>\n",
       "      <td>0</td>\n",
       "      <td>2018-01-01</td>\n",
       "      <td>1</td>\n",
       "      <td>1</td>\n",
       "    </tr>\n",
       "    <tr>\n",
       "      <th>1</th>\n",
       "      <td>1</td>\n",
       "      <td>2018-01-02</td>\n",
       "      <td>1</td>\n",
       "      <td>1</td>\n",
       "    </tr>\n",
       "    <tr>\n",
       "      <th>2</th>\n",
       "      <td>2</td>\n",
       "      <td>2018-01-03</td>\n",
       "      <td>1</td>\n",
       "      <td>1</td>\n",
       "    </tr>\n",
       "  </tbody>\n",
       "</table>\n",
       "</div>"
      ],
      "text/plain": [
       "   id        date  store  item\n",
       "0   0  2018-01-01      1     1\n",
       "1   1  2018-01-02      1     1\n",
       "2   2  2018-01-03      1     1"
      ]
     },
     "execution_count": 11,
     "metadata": {},
     "output_type": "execute_result"
    }
   ],
   "source": [
    "print(\"test columns: \", df_test.columns)\n",
    "print(\"test shape\", df_test.shape)\n",
    "df_test.head(3)"
   ]
  },
  {
   "cell_type": "code",
   "execution_count": 12,
   "metadata": {},
   "outputs": [
    {
     "name": "stdout",
     "output_type": "stream",
     "text": [
      "Entries (Train / Test) : 913000 / 45000\n",
      "Stores (Train / Test) : 1 - 10 / 1 - 10\n",
      "Items (Train / Test) : 1 - 50 / 1 - 50\n",
      "Dates (Train / Test) : 2013-01-01 - 2017-12-31 / 2018-01-01 - 2018-03-31\n"
     ]
    },
    {
     "data": {
      "text/html": [
       "<div>\n",
       "<style scoped>\n",
       "    .dataframe tbody tr th:only-of-type {\n",
       "        vertical-align: middle;\n",
       "    }\n",
       "\n",
       "    .dataframe tbody tr th {\n",
       "        vertical-align: top;\n",
       "    }\n",
       "\n",
       "    .dataframe thead th {\n",
       "        text-align: right;\n",
       "    }\n",
       "</style>\n",
       "<table border=\"1\" class=\"dataframe\">\n",
       "  <thead>\n",
       "    <tr style=\"text-align: right;\">\n",
       "      <th></th>\n",
       "      <th>Training NaNs</th>\n",
       "      <th>Test NaNs</th>\n",
       "    </tr>\n",
       "  </thead>\n",
       "  <tbody>\n",
       "    <tr>\n",
       "      <th>date</th>\n",
       "      <td>0</td>\n",
       "      <td>0</td>\n",
       "    </tr>\n",
       "    <tr>\n",
       "      <th>store</th>\n",
       "      <td>0</td>\n",
       "      <td>0</td>\n",
       "    </tr>\n",
       "    <tr>\n",
       "      <th>item</th>\n",
       "      <td>0</td>\n",
       "      <td>0</td>\n",
       "    </tr>\n",
       "    <tr>\n",
       "      <th>sales</th>\n",
       "      <td>0</td>\n",
       "      <td>0</td>\n",
       "    </tr>\n",
       "  </tbody>\n",
       "</table>\n",
       "</div>"
      ],
      "text/plain": [
       "       Training NaNs  Test NaNs\n",
       "date               0          0\n",
       "store              0          0\n",
       "item               0          0\n",
       "sales              0          0"
      ]
     },
     "metadata": {},
     "output_type": "display_data"
    }
   ],
   "source": [
    "# Check the stores, items and date range, and miising data in train and test datasets\n",
    "print('Entries (Train / Test) : {} / {}'.format(len(df_train), len(df_test)))\n",
    "s_train, s_test = df_train.store.unique(), df_test.store.unique()\n",
    "print('Stores (Train / Test) : {} - {} / {} - {}'.format(s_train[0], s_train[-1], s_test[0], s_test[-1]))\n",
    "i_train, i_test = df_train.item.unique(), df_test.item.unique()\n",
    "print('Items (Train / Test) : {} - {} / {} - {}'.format(i_train[0], i_train[-1], i_test[0], i_test[-1]))\n",
    "dates_train, dates_test = df_train.date.unique(), df_test.date.unique()\n",
    "print('Dates (Train / Test) : {:.10} - {:.10} / {:.10} - {:.10}'.format(dates_train[0], dates_train[-1], dates_test[0], dates_test[-1]))\n",
    "display(pd.concat([df_train.isnull().sum().rename('Training NaNs'),\n",
    "                   df_train.isnull().sum().rename('Test NaNs')], axis=1))"
   ]
  },
  {
   "cell_type": "markdown",
   "metadata": {},
   "source": [
    "## 1.3 The relationship between the data and the problem being solved.\n"
   ]
  },
  {
   "cell_type": "markdown",
   "metadata": {},
   "source": [
    "## Daily Sales Distribution by store by Item"
   ]
  },
  {
   "cell_type": "code",
   "execution_count": 13,
   "metadata": {},
   "outputs": [
    {
     "data": {
      "image/png": "[encoded data removed]",
      "text/plain": [
       "<Figure size 504x288 with 1 Axes>"
      ]
     },
     "metadata": {
      "needs_background": "light"
     },
     "output_type": "display_data"
    }
   ],
   "source": [
    "def sales_per_day():\n",
    "    fig, ax = plt.subplots(figsize=(7,4))\n",
    "    plt.hist(df_train.sales, color='mediumblue')\n",
    "    \n",
    "    ax.set(xlabel = \"Sales Per day by store by item\",\n",
    "           ylabel = \"Count\",\n",
    "           title = \"Distrobution of Sales Per Day\")\n",
    "    \n",
    "sales_per_day()"
   ]
  },
  {
   "cell_type": "markdown",
   "metadata": {},
   "source": [
    "## Total Sales Per Store"
   ]
  },
  {
   "cell_type": "code",
   "execution_count": 14,
   "metadata": {},
   "outputs": [
    {
     "data": {
      "image/png": "[encoded data removed]",
      "text/plain": [
       "<Figure size 504x288 with 1 Axes>"
      ]
     },
     "metadata": {
      "needs_background": "light"
     },
     "output_type": "display_data"
    }
   ],
   "source": [
    "def sales_per_store():\n",
    "    by_store = df_train.groupby('store')['sales'].sum().reset_index()\n",
    "    \n",
    "    fig, ax = plt.subplots(figsize=(7,4))\n",
    "    sns.barplot(by_store.store, by_store.sales, color='mediumblue')\n",
    "    \n",
    "    ax.set(xlabel = \"Store ID\",\n",
    "           ylabel = \"Number of Sales\",\n",
    "           title = \"Total Sales Per Store\")\n",
    "    \n",
    "    sns.despine()\n",
    "    \n",
    "sales_per_store()"
   ]
  },
  {
   "cell_type": "markdown",
   "metadata": {},
   "source": [
    "##  Monthly sales trend and seasonanity\n"
   ]
  },
  {
   "cell_type": "code",
   "execution_count": 15,
   "metadata": {},
   "outputs": [],
   "source": [
    "# Check the monthly data\n",
    "def monthly_sales(data):\n",
    "    monthly_data = data.copy()\n",
    "    monthly_data.date = monthly_data.date.apply(lambda x: str(x)[:-3])\n",
    "    monthly_data = monthly_data.groupby('date')['sales'].sum().reset_index()\n",
    "    monthly_data.date = pd.to_datetime(monthly_data.date)\n",
    "    return monthly_data\n"
   ]
  },
  {
   "cell_type": "code",
   "execution_count": 16,
   "metadata": {},
   "outputs": [
    {
     "data": {
      "text/html": [
       "<div>\n",
       "<style scoped>\n",
       "    .dataframe tbody tr th:only-of-type {\n",
       "        vertical-align: middle;\n",
       "    }\n",
       "\n",
       "    .dataframe tbody tr th {\n",
       "        vertical-align: top;\n",
       "    }\n",
       "\n",
       "    .dataframe thead th {\n",
       "        text-align: right;\n",
       "    }\n",
       "</style>\n",
       "<table border=\"1\" class=\"dataframe\">\n",
       "  <thead>\n",
       "    <tr style=\"text-align: right;\">\n",
       "      <th></th>\n",
       "      <th>date</th>\n",
       "      <th>sales</th>\n",
       "    </tr>\n",
       "  </thead>\n",
       "  <tbody>\n",
       "    <tr>\n",
       "      <th>0</th>\n",
       "      <td>2013-01-01</td>\n",
       "      <td>454904</td>\n",
       "    </tr>\n",
       "    <tr>\n",
       "      <th>1</th>\n",
       "      <td>2013-02-01</td>\n",
       "      <td>459417</td>\n",
       "    </tr>\n",
       "    <tr>\n",
       "      <th>2</th>\n",
       "      <td>2013-03-01</td>\n",
       "      <td>617382</td>\n",
       "    </tr>\n",
       "  </tbody>\n",
       "</table>\n",
       "</div>"
      ],
      "text/plain": [
       "        date   sales\n",
       "0 2013-01-01  454904\n",
       "1 2013-02-01  459417\n",
       "2 2013-03-01  617382"
      ]
     },
     "execution_count": 16,
     "metadata": {},
     "output_type": "execute_result"
    }
   ],
   "source": [
    "monthly_train= monthly_sales(df_train)\n",
    "monthly_train.head(3)"
   ]
  },
  {
   "cell_type": "markdown",
   "metadata": {},
   "source": [
    "## Checking seasonanity"
   ]
  },
  {
   "cell_type": "code",
   "execution_count": 17,
   "metadata": {},
   "outputs": [],
   "source": [
    "from pandas.plotting import register_matplotlib_converters\n",
    "register_matplotlib_converters()\n",
    "def time_plot(data, x_col, y_col, title):\n",
    "    fig, ax = plt.subplots(figsize=(15,5))\n",
    "    sns.lineplot(x_col, y_col, data=data, ax=ax, color='mediumblue', label='Total Sales')\n",
    "    \n",
    "    second = data.groupby(data.date.dt.year)[y_col].mean().reset_index()\n",
    "    second.date = pd.to_datetime(second.date, format='%Y')\n",
    "    sns.lineplot((second.date + datetime.timedelta(6*365/12)), y_col, data=second, ax=ax, color='red', label='Mean Sales')   \n",
    "    \n",
    "    ax.set(xlabel = \"Date\",\n",
    "           ylabel = \"Sales\",\n",
    "           title = title)\n",
    "    \n",
    "    sns.despine()"
   ]
  },
  {
   "cell_type": "code",
   "execution_count": 18,
   "metadata": {},
   "outputs": [
    {
     "data": {
      "image/png": "[encoded data removed]",
      "text/plain": [
       "<Figure size 1080x360 with 1 Axes>"
      ]
     },
     "metadata": {
      "needs_background": "light"
     },
     "output_type": "display_data"
    }
   ],
   "source": [
    "time_plot(monthly_train, 'date', 'sales', 'Monthly Sales')"
   ]
  },
  {
   "cell_type": "markdown",
   "metadata": {},
   "source": [
    "## 1.4 how update to the dataset will impact the solution\n",
    "There is seanoality of the trends. New update to the dataset might or might not impact the trends. "
   ]
  },
  {
   "cell_type": "markdown",
   "metadata": {},
   "source": [
    "## 1.5 Pros and cons of the available data.\n",
    "\n",
    "Pros: the avaialble data is simple and is easy for future engineering, i.e combining store and item to create a unique dataset, aggreation by month, by store etc. \n",
    "\n",
    "Cons: there is missing additional data such as Holiday schedule , special promotion infomation which might have direct impact to the variation of the sales.   "
   ]
  },
  {
   "cell_type": "markdown",
   "metadata": {},
   "source": [
    "## 1.6 the additional data resources that would help improve the solution and possible means of collecting it\n",
    "\n",
    "As mentioned in the last paragraph, additional data info such as work and holiday schedule, special promotion dates and inform and other special events will be helpful. \n",
    "\n",
    "Work/Holiday schedule can be obtained from the company directly. \n",
    "Special promotion info can be received from sales and marketing or store teams. \n"
   ]
  },
  {
   "cell_type": "markdown",
   "metadata": {},
   "source": [
    "\n"
   ]
  },
  {
   "cell_type": "markdown",
   "metadata": {},
   "source": [
    "## 2. Feature Engineering\n",
    "\n",
    "## 2.1 The features and basic characteristics\n",
    "\n",
    "Naive datetime features: \n",
    "* Could aslo add holiday, weekend, work-hours if possible\n",
    "\n",
    "Lag times or lags, which is to shift the data backward in time as new features:\n",
    "\n",
    "* n step back in time, n-lag (shift=n) \n",
    "\n",
    "Later, we will explore the number of lags as hyperparameter. "
   ]
  },
  {
   "cell_type": "markdown",
   "metadata": {},
   "source": [
    "## 2.2 Creating features from raw data"
   ]
  },
  {
   "cell_type": "code",
   "execution_count": null,
   "metadata": {},
   "outputs": [],
   "source": [
    "df_train['date'] = pd.to_datetime(df_train['date'],infer_datetime_format=True)\n",
    "df_train['month'] = df_train['date'].dt.month.astype(str)\n",
    "df_train['weekday'] = df_train['date'].dt.dayofweek.astype(str)\n",
    "df_train['year'] = df_train['date'].dt.year.astype(str)\n",
    "df_train['week_of_year']  = df_train.date.dt.weekofyear.astype(str)"
   ]
  },
  {
   "cell_type": "code",
   "execution_count": null,
   "metadata": {},
   "outputs": [],
   "source": [
    "df_train.head()"
   ]
  },
  {
   "cell_type": "code",
   "execution_count": null,
   "metadata": {},
   "outputs": [],
   "source": [
    "df_test['date'] = pd.to_datetime(df_test['date'],infer_datetime_format=True)\n",
    "df_test['month'] = df_test['date'].dt.month.astype(str)\n",
    "df_test['weekday'] = df_test['date'].dt.dayofweek.astype(str)\n",
    "df_test['year'] = df_test['date'].dt.year.astype(str)\n",
    "df_test['week_of_year']  = df_test.date.dt.weekofyear.astype(str)\n",
    "df_test.tail()"
   ]
  },
  {
   "cell_type": "markdown",
   "metadata": {},
   "source": [
    "## Lag times"
   ]
  },
  {
   "cell_type": "code",
   "execution_count": 19,
   "metadata": {},
   "outputs": [],
   "source": [
    "class LagTimes(BaseEstimator,TransformerMixin):\n",
    "    \n",
    "    def __init__(self,sales,groupbyStore,groupbyItem,numLags,dropna=False):\n",
    "        \n",
    "        self.sales = sales\n",
    "        self.groupbyStore = groupbyStore\n",
    "        self.groupbyItem = groupbyItem\n",
    "        self.numLags = numLags\n",
    "        self.dropna = dropna\n",
    "        \n",
    "    def fit(self,X,y=None):\n",
    "        self.X = X\n",
    "        return self\n",
    "    \n",
    "    def transform(self,X):\n",
    "        tmp = self.X.copy()\n",
    "        for i in range(1,self.numLags+1):\n",
    "            tmp[str(i)+'_Day_Ago'+\"_\"+self.sales] = tmp.groupby([self.groupbyStore,self.groupbyItem])[self.sales].shift(i) \n",
    "            \n",
    "        if self.dropna:\n",
    "            tmp = tmp.dropna()\n",
    "            tmp = tmp.reset_index(drop=True)\n",
    "            \n",
    "        return tmp"
   ]
  },
  {
   "cell_type": "markdown",
   "metadata": {},
   "source": [
    "## Check new features for 7-step"
   ]
  },
  {
   "cell_type": "code",
   "execution_count": 20,
   "metadata": {},
   "outputs": [],
   "source": [
    "steps = [('7_step',LagTimes('sales','store','item',7,dropna=True))]\n",
    "lag_7 = Pipeline(steps).fit_transform(df_train)"
   ]
  },
  {
   "cell_type": "code",
   "execution_count": 21,
   "metadata": {},
   "outputs": [
    {
     "data": {
      "text/html": [
       "<div>\n",
       "<style scoped>\n",
       "    .dataframe tbody tr th:only-of-type {\n",
       "        vertical-align: middle;\n",
       "    }\n",
       "\n",
       "    .dataframe tbody tr th {\n",
       "        vertical-align: top;\n",
       "    }\n",
       "\n",
       "    .dataframe thead th {\n",
       "        text-align: right;\n",
       "    }\n",
       "</style>\n",
       "<table border=\"1\" class=\"dataframe\">\n",
       "  <thead>\n",
       "    <tr style=\"text-align: right;\">\n",
       "      <th></th>\n",
       "      <th>date</th>\n",
       "      <th>store</th>\n",
       "      <th>item</th>\n",
       "      <th>sales</th>\n",
       "      <th>1_Day_Ago_sales</th>\n",
       "      <th>2_Day_Ago_sales</th>\n",
       "      <th>3_Day_Ago_sales</th>\n",
       "      <th>4_Day_Ago_sales</th>\n",
       "      <th>5_Day_Ago_sales</th>\n",
       "      <th>6_Day_Ago_sales</th>\n",
       "      <th>7_Day_Ago_sales</th>\n",
       "    </tr>\n",
       "  </thead>\n",
       "  <tbody>\n",
       "    <tr>\n",
       "      <th>0</th>\n",
       "      <td>2013-01-08</td>\n",
       "      <td>1</td>\n",
       "      <td>1</td>\n",
       "      <td>9</td>\n",
       "      <td>10.0</td>\n",
       "      <td>12.0</td>\n",
       "      <td>10.0</td>\n",
       "      <td>13.0</td>\n",
       "      <td>14.0</td>\n",
       "      <td>11.0</td>\n",
       "      <td>13.0</td>\n",
       "    </tr>\n",
       "    <tr>\n",
       "      <th>1</th>\n",
       "      <td>2013-01-09</td>\n",
       "      <td>1</td>\n",
       "      <td>1</td>\n",
       "      <td>12</td>\n",
       "      <td>9.0</td>\n",
       "      <td>10.0</td>\n",
       "      <td>12.0</td>\n",
       "      <td>10.0</td>\n",
       "      <td>13.0</td>\n",
       "      <td>14.0</td>\n",
       "      <td>11.0</td>\n",
       "    </tr>\n",
       "    <tr>\n",
       "      <th>2</th>\n",
       "      <td>2013-01-10</td>\n",
       "      <td>1</td>\n",
       "      <td>1</td>\n",
       "      <td>9</td>\n",
       "      <td>12.0</td>\n",
       "      <td>9.0</td>\n",
       "      <td>10.0</td>\n",
       "      <td>12.0</td>\n",
       "      <td>10.0</td>\n",
       "      <td>13.0</td>\n",
       "      <td>14.0</td>\n",
       "    </tr>\n",
       "    <tr>\n",
       "      <th>3</th>\n",
       "      <td>2013-01-11</td>\n",
       "      <td>1</td>\n",
       "      <td>1</td>\n",
       "      <td>9</td>\n",
       "      <td>9.0</td>\n",
       "      <td>12.0</td>\n",
       "      <td>9.0</td>\n",
       "      <td>10.0</td>\n",
       "      <td>12.0</td>\n",
       "      <td>10.0</td>\n",
       "      <td>13.0</td>\n",
       "    </tr>\n",
       "    <tr>\n",
       "      <th>4</th>\n",
       "      <td>2013-01-12</td>\n",
       "      <td>1</td>\n",
       "      <td>1</td>\n",
       "      <td>7</td>\n",
       "      <td>9.0</td>\n",
       "      <td>9.0</td>\n",
       "      <td>12.0</td>\n",
       "      <td>9.0</td>\n",
       "      <td>10.0</td>\n",
       "      <td>12.0</td>\n",
       "      <td>10.0</td>\n",
       "    </tr>\n",
       "    <tr>\n",
       "      <th>5</th>\n",
       "      <td>2013-01-13</td>\n",
       "      <td>1</td>\n",
       "      <td>1</td>\n",
       "      <td>10</td>\n",
       "      <td>7.0</td>\n",
       "      <td>9.0</td>\n",
       "      <td>9.0</td>\n",
       "      <td>12.0</td>\n",
       "      <td>9.0</td>\n",
       "      <td>10.0</td>\n",
       "      <td>12.0</td>\n",
       "    </tr>\n",
       "    <tr>\n",
       "      <th>6</th>\n",
       "      <td>2013-01-14</td>\n",
       "      <td>1</td>\n",
       "      <td>1</td>\n",
       "      <td>12</td>\n",
       "      <td>10.0</td>\n",
       "      <td>7.0</td>\n",
       "      <td>9.0</td>\n",
       "      <td>9.0</td>\n",
       "      <td>12.0</td>\n",
       "      <td>9.0</td>\n",
       "      <td>10.0</td>\n",
       "    </tr>\n",
       "    <tr>\n",
       "      <th>7</th>\n",
       "      <td>2013-01-15</td>\n",
       "      <td>1</td>\n",
       "      <td>1</td>\n",
       "      <td>5</td>\n",
       "      <td>12.0</td>\n",
       "      <td>10.0</td>\n",
       "      <td>7.0</td>\n",
       "      <td>9.0</td>\n",
       "      <td>9.0</td>\n",
       "      <td>12.0</td>\n",
       "      <td>9.0</td>\n",
       "    </tr>\n",
       "    <tr>\n",
       "      <th>8</th>\n",
       "      <td>2013-01-16</td>\n",
       "      <td>1</td>\n",
       "      <td>1</td>\n",
       "      <td>7</td>\n",
       "      <td>5.0</td>\n",
       "      <td>12.0</td>\n",
       "      <td>10.0</td>\n",
       "      <td>7.0</td>\n",
       "      <td>9.0</td>\n",
       "      <td>9.0</td>\n",
       "      <td>12.0</td>\n",
       "    </tr>\n",
       "    <tr>\n",
       "      <th>9</th>\n",
       "      <td>2013-01-17</td>\n",
       "      <td>1</td>\n",
       "      <td>1</td>\n",
       "      <td>16</td>\n",
       "      <td>7.0</td>\n",
       "      <td>5.0</td>\n",
       "      <td>12.0</td>\n",
       "      <td>10.0</td>\n",
       "      <td>7.0</td>\n",
       "      <td>9.0</td>\n",
       "      <td>9.0</td>\n",
       "    </tr>\n",
       "  </tbody>\n",
       "</table>\n",
       "</div>"
      ],
      "text/plain": [
       "         date  store  item  sales  1_Day_Ago_sales  2_Day_Ago_sales  \\\n",
       "0  2013-01-08      1     1      9             10.0             12.0   \n",
       "1  2013-01-09      1     1     12              9.0             10.0   \n",
       "2  2013-01-10      1     1      9             12.0              9.0   \n",
       "3  2013-01-11      1     1      9              9.0             12.0   \n",
       "4  2013-01-12      1     1      7              9.0              9.0   \n",
       "5  2013-01-13      1     1     10              7.0              9.0   \n",
       "6  2013-01-14      1     1     12             10.0              7.0   \n",
       "7  2013-01-15      1     1      5             12.0             10.0   \n",
       "8  2013-01-16      1     1      7              5.0             12.0   \n",
       "9  2013-01-17      1     1     16              7.0              5.0   \n",
       "\n",
       "   3_Day_Ago_sales  4_Day_Ago_sales  5_Day_Ago_sales  6_Day_Ago_sales  \\\n",
       "0             10.0             13.0             14.0             11.0   \n",
       "1             12.0             10.0             13.0             14.0   \n",
       "2             10.0             12.0             10.0             13.0   \n",
       "3              9.0             10.0             12.0             10.0   \n",
       "4             12.0              9.0             10.0             12.0   \n",
       "5              9.0             12.0              9.0             10.0   \n",
       "6              9.0              9.0             12.0              9.0   \n",
       "7              7.0              9.0              9.0             12.0   \n",
       "8             10.0              7.0              9.0              9.0   \n",
       "9             12.0             10.0              7.0              9.0   \n",
       "\n",
       "   7_Day_Ago_sales  \n",
       "0             13.0  \n",
       "1             11.0  \n",
       "2             14.0  \n",
       "3             13.0  \n",
       "4             10.0  \n",
       "5             12.0  \n",
       "6             10.0  \n",
       "7              9.0  \n",
       "8             12.0  \n",
       "9              9.0  "
      ]
     },
     "execution_count": 21,
     "metadata": {},
     "output_type": "execute_result"
    }
   ],
   "source": [
    "lag_7.head(10)"
   ]
  },
  {
   "cell_type": "markdown",
   "metadata": {},
   "source": [
    "\n",
    "## 2.3 the statistics of the features after feature engineering"
   ]
  },
  {
   "cell_type": "code",
   "execution_count": null,
   "metadata": {},
   "outputs": [],
   "source": [
    "# Convert the type of 'store' and 'item' as string. \n",
    "lag_7['store']=lag_7['store'].astype(str)\n",
    "lag_7['item']=lag_7['item'].astype(str)\n",
    "lag_7.describe(include='all')"
   ]
  },
  {
   "cell_type": "code",
   "execution_count": null,
   "metadata": {},
   "outputs": [],
   "source": [
    "# Convert the type of 'store' and 'item' as string. \n",
    "df_train['store']=df_train['store'].astype(str)\n",
    "df_train['item']=df_train['item'].astype(str)"
   ]
  },
  {
   "cell_type": "code",
   "execution_count": null,
   "metadata": {},
   "outputs": [],
   "source": [
    "df_train.describe(include='all')"
   ]
  },
  {
   "cell_type": "code",
   "execution_count": null,
   "metadata": {},
   "outputs": [],
   "source": [
    "# Convert the type of 'store' and 'item' as string. \n",
    "df_test['store']=df_test['store'].astype(str)\n",
    "df_test['item']=df_test['item'].astype(str)"
   ]
  },
  {
   "cell_type": "code",
   "execution_count": null,
   "metadata": {},
   "outputs": [],
   "source": [
    "df_test.describe(include='all')"
   ]
  },
  {
   "cell_type": "markdown",
   "metadata": {},
   "source": [
    "## 3. ML Algorithm Tuning\n",
    "\n"
   ]
  },
  {
   "cell_type": "markdown",
   "metadata": {},
   "source": [
    "## Training, validation split for time series\n",
    "Based on [Forward Chaining/K-fold validation methods for time series](https://scikit-learn.org/stable/modules/generated/sklearn.model_selection.TimeSeriesSplit.html)"
   ]
  },
  {
   "cell_type": "code",
   "execution_count": 43,
   "metadata": {},
   "outputs": [],
   "source": [
    "from sklearn.model_selection import TimeSeriesSplit\n",
    "from itertools import chain\n",
    "\n",
    "def cvTimeSeriesSplit(X,n_splits=5):\n",
    "\n",
    "    tscv = TimeSeriesSplit(n_splits,max_train_size=None)\n",
    "    for train_index, test_index in tscv.split(X.date.unique()):\n",
    "        X_train_dates, X_test_dates = X.date.unique()[train_index], X.date.unique()[test_index]\n",
    "        train = X.loc[X.date.isin(X_train_dates)].set_index(['date','store','item'])\n",
    "        val = X.loc[X.date.isin(X_test_dates)].set_index(['date','store','item'])    \n",
    "        X_train, X_test = train.drop(['sales'], axis=1), val.drop(['sales'], axis=1)\n",
    "        y_train, y_test = train['sales'].values, val['sales'].values\n",
    "    \n",
    "        yield X_train, X_test, y_train, y_test    "
   ]
  },
  {
   "cell_type": "code",
   "execution_count": 68,
   "metadata": {},
   "outputs": [],
   "source": [
    "from sklearn.model_selection import TimeSeriesSplit\n",
    "from itertools import chain\n",
    "\n",
    "class cvTimeSeriesSplit(BaseEstimator,TransformerMixin):\n",
    "\n",
    "    def __init__(self,n_splits,max_train_size=None,dropna=True):\n",
    "\n",
    "        self.n_splits = n_splits\n",
    "        self.max_train_size = max_train_size\n",
    "        self.dropna = dropna\n",
    "        \n",
    "    def fit(self,X,y=None):\n",
    "        self.X = X\n",
    "        return self    \n",
    "        \n",
    "    def _cvsplit_(self,X):\n",
    "        \n",
    "        tscv = TimeSeriesSplit(self.n_splits,self.max_train_size)\n",
    "        \n",
    "        for train_index, test_index in tscv.split(self.X.date.unique()):\n",
    "            \n",
    "            X_train_dates, X_test_dates = self.X.date.unique()[train_index], self.X.date.unique()[test_index]\n",
    "            \n",
    "            train = self.X.loc[self.X.date.isin(X_train_dates)].set_index(['date','store','item'])\n",
    "            val = self.X.loc[self.X.date.isin(X_test_dates)].set_index(['date','store','item'])    \n",
    "            \n",
    "            X_train, X_test = train.drop(['sales'], axis=1), val.drop(['sales'], axis=1)\n",
    "            y_train, y_test = train['sales'].values, val['sales'].values\n",
    "    \n",
    "            yield X_train, X_test, y_train, y_test\n",
    "        \n",
    "    def transform(self,X):\n",
    "        cvsplit = self._cvsplit_(X)\n",
    "        return chain(cvsplit)"
   ]
  },
  {
   "cell_type": "code",
   "execution_count": 92,
   "metadata": {},
   "outputs": [
    {
     "ename": "TypeError",
     "evalue": "fit_transform() missing 1 required positional argument: 'X'",
     "output_type": "error",
     "traceback": [
      "\u001b[1;31m---------------------------------------------------------------------------\u001b[0m",
      "\u001b[1;31mTypeError\u001b[0m                                 Traceback (most recent call last)",
      "\u001b[1;32m<ipython-input-92-2da7449268fe>\u001b[0m in \u001b[0;36m<module>\u001b[1;34m\u001b[0m\n\u001b[0;32m      1\u001b[0m \u001b[0msteps\u001b[0m \u001b[1;33m=\u001b[0m \u001b[1;33m[\u001b[0m\u001b[1;33m(\u001b[0m\u001b[1;34m'cv'\u001b[0m\u001b[1;33m,\u001b[0m\u001b[0mcvTimeSeriesSplit\u001b[0m\u001b[1;33m(\u001b[0m\u001b[0mn_splits\u001b[0m\u001b[1;33m=\u001b[0m\u001b[1;36m5\u001b[0m\u001b[1;33m)\u001b[0m\u001b[1;33m)\u001b[0m\u001b[1;33m]\u001b[0m\u001b[1;33m\u001b[0m\u001b[1;33m\u001b[0m\u001b[0m\n\u001b[1;32m----> 2\u001b[1;33m \u001b[0mcv\u001b[0m \u001b[1;33m=\u001b[0m \u001b[0mPipeline\u001b[0m\u001b[1;33m(\u001b[0m\u001b[0msteps\u001b[0m\u001b[1;33m)\u001b[0m\u001b[1;33m.\u001b[0m\u001b[0mfit_transform\u001b[0m\u001b[1;33m(\u001b[0m\u001b[1;33m)\u001b[0m\u001b[1;33m\u001b[0m\u001b[1;33m\u001b[0m\u001b[0m\n\u001b[0m",
      "\u001b[1;31mTypeError\u001b[0m: fit_transform() missing 1 required positional argument: 'X'"
     ]
    }
   ],
   "source": [
    "steps = [('cv',cvTimeSeriesSplit(n_splits=5))]\n",
    "cv = Pipeline(steps).fit_transform()"
   ]
  },
  {
   "cell_type": "code",
   "execution_count": 70,
   "metadata": {},
   "outputs": [
    {
     "name": "stdout",
     "output_type": "stream",
     "text": [
      "0_fold:\n",
      "# of train =  152000\n",
      "# of test =  151500\n",
      "1_fold:\n",
      "# of train =  303500\n",
      "# of test =  151500\n",
      "2_fold:\n",
      "# of train =  455000\n",
      "# of test =  151500\n",
      "3_fold:\n",
      "# of train =  606500\n",
      "# of test =  151500\n",
      "4_fold:\n",
      "# of train =  758000\n",
      "# of test =  151500\n"
     ]
    }
   ],
   "source": [
    "for indx, fold in enumerate(cv):\n",
    "    X_train, X_test, y_train, y_test = fold\n",
    "    print(str(indx)+'_fold:')\n",
    "    print('# of train = ',len(X_train))\n",
    "    print('# of test = ', len(X_test))"
   ]
  },
  {
   "cell_type": "markdown",
   "metadata": {},
   "source": [
    "## Metrics : SMAPE"
   ]
  },
  {
   "cell_type": "code",
   "execution_count": 23,
   "metadata": {},
   "outputs": [],
   "source": [
    "# Define SMAPE metrics\n",
    "def smape(y_pred, y_true):\n",
    "    # calculate error\n",
    "    denom = (abs(y_pred) + abs(y_true)) / 2\n",
    "    errors = abs(y_pred - y_true) / denom\n",
    "    return 100 * np.sum(errors) / len(y_true)"
   ]
  },
  {
   "cell_type": "markdown",
   "metadata": {},
   "source": [
    "## 3.0 Base Model: \n",
    "Predicted sale is equal to the sales in previous day.\n",
    "## Baseline Estimator"
   ]
  },
  {
   "cell_type": "code",
   "execution_count": 71,
   "metadata": {},
   "outputs": [],
   "source": [
    "class BaseEstimator(BaseEstimator, RegressorMixin):\n",
    "    def __init__(self, predCol):\n",
    "        \"\"\"\n",
    "            As a base model we assume predicted sales is equal to the one in previous day\n",
    "            Input: \n",
    "                    predCol: 1_Day_Ago_sales\n",
    "        \"\"\"\n",
    "        self.predCol = predCol\n",
    "\n",
    "        \n",
    "    def fit(self, X, y):\n",
    "        return self\n",
    "\n",
    "\n",
    "    def predict(self, X):\n",
    "        prediction = X[self.predCol].values\n",
    "        return prediction\n",
    "\n",
    "    def score(self, X, y,scoring):\n",
    "        \n",
    "        prediction = self.predict(X)\n",
    "    \n",
    "        error =scoring(y, prediction)  # smape, np.sqrt(mean_squared_log_error(y, prediction))\n",
    "        return error"
   ]
  },
  {
   "cell_type": "markdown",
   "metadata": {},
   "source": [
    "## Base Model"
   ]
  },
  {
   "cell_type": "code",
   "execution_count": 21,
   "metadata": {},
   "outputs": [],
   "source": [
    "tscv = TimeSeriesSplit(n_splits=10,max_train_size=None)"
   ]
  },
  {
   "cell_type": "code",
   "execution_count": 22,
   "metadata": {},
   "outputs": [
    {
     "name": "stdout",
     "output_type": "stream",
     "text": [
      "Fold: 1, Error(smape): 22.258\n",
      "Fold: 2, Error(smape): 23.748\n",
      "Fold: 3, Error(smape): 21.109\n",
      "Fold: 4, Error(smape): 23.586\n",
      "Fold: 5, Error(smape): 20.678\n",
      "Fold: 6, Error(smape): 22.790\n",
      "Fold: 7, Error(smape): 20.562\n",
      "Fold: 8, Error(smape): 21.840\n",
      "Fold: 9, Error(smape): 20.919\n",
      "Fold: 10, Error(smape): 20.794\n",
      "Total Error 21.828\n"
     ]
    }
   ],
   "source": [
    "base_model = BaseEstimator('1_Day_Ago_sales')\n",
    "errors = []\n",
    "fold = 1\n",
    "for train_index, test_index in tscv.split(lag_7.date.unique()):\n",
    "    X_train_dates, X_test_dates = lag_7.date.unique()[train_index], lag_7.date.unique()[test_index]\n",
    "    train = lag_7.loc[lag_7.date.isin(X_train_dates)]\n",
    "    val = lag_7.loc[lag_7.date.isin(X_test_dates)]    \n",
    "    X_train, X_test = train.drop(['sales'], axis=1), val.drop(['sales'], axis=1)\n",
    "    y_train, y_test = train['sales'].values, val['sales'].values\n",
    "    error = base_model.score(X_test,y_test,smape)\n",
    "    errors.append(error)\n",
    "    print(\"Fold: {}, Error(smape): {:.3f}\".format(fold,error))\n",
    "    fold = fold+1\n",
    "    \n",
    "print('Total Error {:.3f}'.format(np.mean(errors)))    "
   ]
  },
  {
   "cell_type": "code",
   "execution_count": 74,
   "metadata": {},
   "outputs": [],
   "source": [
    "steps = [('cv',cvTimeSeriesSplit(n_splits=5))]\n",
    "cv = Pipeline(steps).fit_transform(lag_7)"
   ]
  },
  {
   "cell_type": "code",
   "execution_count": 75,
   "metadata": {},
   "outputs": [
    {
     "name": "stdout",
     "output_type": "stream",
     "text": [
      "Fold: 0, Error(smape): 22.595\n",
      "Fold: 1, Error(smape): 22.522\n",
      "Fold: 2, Error(smape): 21.916\n",
      "Fold: 3, Error(smape): 21.368\n",
      "Fold: 4, Error(smape): 20.629\n",
      "Total Error 21.806\n"
     ]
    }
   ],
   "source": [
    "base_model = BaseEstimator('1_Day_Ago_sales')\n",
    "errors = []\n",
    "for indx, fold in enumerate(cv):\n",
    "    X_train, X_test, y_train, y_test = fold\n",
    "    error = base_model.score(X_test,y_test,smape)\n",
    "    errors.append(error)\n",
    "    print(\"Fold: {}, Error(smape): {:.3f}\".format(indx,error))\n",
    "    \n",
    "print('Total Error {:.3f}'.format(np.mean(errors)))   "
   ]
  },
  {
   "cell_type": "markdown",
   "metadata": {},
   "source": [
    "## 3.1 Time Series Regression"
   ]
  },
  {
   "cell_type": "code",
   "execution_count": 80,
   "metadata": {},
   "outputs": [],
   "source": [
    "class TimeSeriesRegressor(BaseEstimator, RegressorMixin):\n",
    "    \n",
    "    def __init__(self,model,cv,scoring,verbosity=True):\n",
    "        self.model = model\n",
    "        self.cv = cv\n",
    "        self.verbosity = verbosity\n",
    "        self.scoring = scoring \n",
    "        \n",
    "            \n",
    "    def fit(self,X,y=None):\n",
    "        return self\n",
    "        \n",
    "    \n",
    "    def predict(self,X=None):\n",
    "        \n",
    "        pred = {}\n",
    "        for indx, fold in enumerate(self.cv):\n",
    "            X_train, X_test, y_train, y_test = fold\n",
    "            print(X_train)\n",
    "            self.model.fit(X_train, y_train)\n",
    "            pred[str(indx)+'_fold'] = self.model.predict(X_test)\n",
    "            \n",
    "        prediction = pd.DataFrame(pred)\n",
    "    \n",
    "        return prediction\n",
    "    \n",
    "\n",
    "    def score(self,X,y=None):\n",
    "\n",
    "\n",
    "        errors = []\n",
    "        for indx, fold in enumerate(self.cv):\n",
    "            X_train, X_test, y_train, y_test = fold            \n",
    "            self.model.fit(X_train, y_train)\n",
    "            prediction = self.model.predict(X_test)\n",
    "            error = self.scoring(y_test, prediction)\n",
    "            errors.append(error)\n",
    "\n",
    "            if self.verbosity:\n",
    "                print(\"Fold: {}, Error: {:.4f}\".format(indx,error))\n",
    "\n",
    "        if self.verbosity:\n",
    "            print('Total Error {:.4f}'.format(np.mean(errors)))\n",
    "\n",
    "        return errors"
   ]
  },
  {
   "cell_type": "markdown",
   "metadata": {},
   "source": [
    "## Linear Regression Model"
   ]
  },
  {
   "cell_type": "code",
   "execution_count": 86,
   "metadata": {},
   "outputs": [],
   "source": [
    "steps = [('cv',cvTimeSeriesSplit(n_splits=6))]\n",
    "cv = Pipeline(steps).fit_transform(lag_7)"
   ]
  },
  {
   "cell_type": "code",
   "execution_count": 87,
   "metadata": {},
   "outputs": [],
   "source": [
    "model1 = LinearRegression()"
   ]
  },
  {
   "cell_type": "code",
   "execution_count": 89,
   "metadata": {},
   "outputs": [],
   "source": [
    "steps = [('7_step',LagTimes('sales','store','item',7,dropna=True)),\n",
    "         ('cv',cvTimeSeriesSplit(n_splits=5)),\n",
    "        ('predic_1',TimeSeriesRegressor(model=model1,cv=cv,scoring=smape,verbosity=True))]\n",
    "lag_7_p = Pipeline(steps).fit(df_train)"
   ]
  },
  {
   "cell_type": "code",
   "execution_count": 90,
   "metadata": {},
   "outputs": [
    {
     "name": "stdout",
     "output_type": "stream",
     "text": [
      "Fold: 0, Error: 17.0145\n",
      "Fold: 1, Error: 16.2834\n",
      "Fold: 2, Error: 14.8183\n",
      "Fold: 3, Error: 15.6813\n",
      "Fold: 4, Error: 15.8783\n",
      "Fold: 5, Error: 14.5301\n",
      "Total Error 15.7010\n"
     ]
    }
   ],
   "source": [
    "Model_1_Error = lag_7_p.score(df_train)"
   ]
  },
  {
   "cell_type": "markdown",
   "metadata": {},
   "source": [
    "## Random Forest Regression Model"
   ]
  },
  {
   "cell_type": "code",
   "execution_count": 55,
   "metadata": {},
   "outputs": [],
   "source": [
    "cv = chain(cvTimeSeriesSplit(lag_7,n_splits=10))"
   ]
  },
  {
   "cell_type": "code",
   "execution_count": 56,
   "metadata": {},
   "outputs": [],
   "source": [
    "model2 = RandomForestRegressor(n_estimators=1000, n_jobs=-1, random_state=0)"
   ]
  },
  {
   "cell_type": "code",
   "execution_count": 57,
   "metadata": {},
   "outputs": [],
   "source": [
    "steps = [('7_step',LagTimes('sales','store','item',7,dropna=True)),\n",
    "        ('predic_2',TimeSeriesRegressor(model=model2,cv=cv,scoring=smape))]\n",
    "lag_7_p = Pipeline(steps).fit(df_train)"
   ]
  },
  {
   "cell_type": "code",
   "execution_count": null,
   "metadata": {},
   "outputs": [
    {
     "name": "stdout",
     "output_type": "stream",
     "text": [
      "Fold: 0, Error: 15.9639\n",
      "Fold: 1, Error: 16.5669\n",
      "Fold: 2, Error: 14.0864\n",
      "Fold: 3, Error: 16.5871\n",
      "Fold: 4, Error: 13.5437\n",
      "Fold: 5, Error: 16.1622\n",
      "Fold: 6, Error: 13.2296\n"
     ]
    }
   ],
   "source": [
    "Model_2_Error = lag_7_p.score(df_train)"
   ]
  },
  {
   "cell_type": "markdown",
   "metadata": {},
   "source": [
    "## 3.2 Other Regresion Models : Random Forest Regression, XGBoost"
   ]
  },
  {
   "cell_type": "markdown",
   "metadata": {},
   "source": [
    "## 3.3 Regression Models with different feature engineering\n"
   ]
  },
  {
   "cell_type": "markdown",
   "metadata": {},
   "source": [
    "## 4. Testing the AI Service\n",
    "\n",
    "## 4.1 Report the test accuracy/RMSE on the test dataset."
   ]
  },
  {
   "cell_type": "markdown",
   "metadata": {},
   "source": [
    "## 4.2 Report the KMAPE metrics on the test dataset"
   ]
  },
  {
   "cell_type": "code",
   "execution_count": null,
   "metadata": {},
   "outputs": [],
   "source": []
  },
  {
   "cell_type": "markdown",
   "metadata": {},
   "source": [
    "## 4.3 Add noise to the features of the test dataset and report the sensitivity of the algorithm to noise on different features."
   ]
  },
  {
   "cell_type": "code",
   "execution_count": null,
   "metadata": {},
   "outputs": [],
   "source": []
  }
 ],
 "metadata": {
  "kernelspec": {
   "display_name": "Python 3",
   "language": "python",
   "name": "python3"
  },
  "language_info": {
   "codemirror_mode": {
    "name": "ipython",
    "version": 3
   },
   "file_extension": ".py",
   "mimetype": "text/x-python",
   "name": "python",
   "nbconvert_exporter": "python",
   "pygments_lexer": "ipython3",
   "version": "3.7.4"
  }
 },
 "nbformat": 4,
 "nbformat_minor": 4
}
